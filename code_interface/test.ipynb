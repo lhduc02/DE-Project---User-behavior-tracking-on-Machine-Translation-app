{
 "cells": [
  {
   "cell_type": "code",
   "execution_count": null,
   "metadata": {},
   "outputs": [],
   "source": [
    "import pandas as pd\n",
    "import pymysql"
   ]
  },
  {
   "cell_type": "code",
   "execution_count": 16,
   "metadata": {},
   "outputs": [
    {
     "name": "stderr",
     "output_type": "stream",
     "text": [
      "/tmp/ipykernel_57525/2925452157.py:14: UserWarning: pandas only supports SQLAlchemy connectable (engine/connection) or database string URI or sqlite3 DBAPI2 connection. Other DBAPI2 objects are not tested. Please consider using SQLAlchemy.\n",
      "  df = pd.read_sql(QUERY, conn)\n"
     ]
    }
   ],
   "source": [
    "HOST = \"localhost\"  # Ví dụ: \"127.0.0.1\"\n",
    "PORT = 9030  # Mặc định của StarRocks\n",
    "USER = \"root\"\n",
    "PASSWORD = \"\"\n",
    "DATABASE = \"event_logs\"\n",
    "QUERY = \"SELECT timestamp, user_id, event_name FROM user_events LIMIT 10000\"  # Query lấy dữ liệu\n",
    "\n",
    "# Kết nối tới StarRocks\n",
    "conn = pymysql.connect(\n",
    "    host=HOST, port=PORT, user=USER, password=PASSWORD, database=DATABASE\n",
    ")\n",
    "\n",
    "# Đọc dữ liệu vào pandas DataFrame\n",
    "df = pd.read_sql(QUERY, conn)"
   ]
  },
  {
   "cell_type": "code",
   "execution_count": 4,
   "metadata": {},
   "outputs": [
    {
     "data": {
      "text/html": [
       "<div>\n",
       "<style scoped>\n",
       "    .dataframe tbody tr th:only-of-type {\n",
       "        vertical-align: middle;\n",
       "    }\n",
       "\n",
       "    .dataframe tbody tr th {\n",
       "        vertical-align: top;\n",
       "    }\n",
       "\n",
       "    .dataframe thead th {\n",
       "        text-align: right;\n",
       "    }\n",
       "</style>\n",
       "<table border=\"1\" class=\"dataframe\">\n",
       "  <thead>\n",
       "    <tr style=\"text-align: right;\">\n",
       "      <th></th>\n",
       "      <th>timestamp</th>\n",
       "      <th>user_id</th>\n",
       "      <th>event_name</th>\n",
       "    </tr>\n",
       "  </thead>\n",
       "  <tbody>\n",
       "    <tr>\n",
       "      <th>0</th>\n",
       "      <td>1742356892</td>\n",
       "      <td>0</td>\n",
       "      <td>ev1_ad_show</td>\n",
       "    </tr>\n",
       "    <tr>\n",
       "      <th>1</th>\n",
       "      <td>1742356892</td>\n",
       "      <td>0</td>\n",
       "      <td>ev2_notification_receive</td>\n",
       "    </tr>\n",
       "    <tr>\n",
       "      <th>2</th>\n",
       "      <td>1742356892</td>\n",
       "      <td>0</td>\n",
       "      <td>ev2_user_rate_app</td>\n",
       "    </tr>\n",
       "    <tr>\n",
       "      <th>3</th>\n",
       "      <td>1742356892</td>\n",
       "      <td>1</td>\n",
       "      <td>ev2_session_start</td>\n",
       "    </tr>\n",
       "    <tr>\n",
       "      <th>4</th>\n",
       "      <td>1742356892</td>\n",
       "      <td>1</td>\n",
       "      <td>ev2_screen_view</td>\n",
       "    </tr>\n",
       "  </tbody>\n",
       "</table>\n",
       "</div>"
      ],
      "text/plain": [
       "    timestamp user_id                event_name\n",
       "0  1742356892       0               ev1_ad_show\n",
       "1  1742356892       0  ev2_notification_receive\n",
       "2  1742356892       0         ev2_user_rate_app\n",
       "3  1742356892       1         ev2_session_start\n",
       "4  1742356892       1           ev2_screen_view"
      ]
     },
     "execution_count": 4,
     "metadata": {},
     "output_type": "execute_result"
    }
   ],
   "source": [
    "df.head()"
   ]
  },
  {
   "cell_type": "code",
   "execution_count": 5,
   "metadata": {},
   "outputs": [],
   "source": [
    "set_user_id = sorted(set(df['user_id']))"
   ]
  },
  {
   "cell_type": "code",
   "execution_count": 6,
   "metadata": {},
   "outputs": [
    {
     "name": "stdout",
     "output_type": "stream",
     "text": [
      "['0', '1', '2', '3', '4', '5', '6', '7', '8', '9', 'a', 'b', 'c', 'd', 'e', 'f', 'g', 'h', 'i', 'j', 'k', 'l', 'm', 'n', 'o', 'p', 'q', 'r', 's', 't', 'u', 'v', 'w', 'x', 'y', 'z']\n"
     ]
    }
   ],
   "source": [
    "print(set_user_id)"
   ]
  },
  {
   "cell_type": "code",
   "execution_count": 7,
   "metadata": {},
   "outputs": [
    {
     "name": "stdout",
     "output_type": "stream",
     "text": [
      "36\n"
     ]
    }
   ],
   "source": [
    "print(len(set_user_id))"
   ]
  },
  {
   "cell_type": "code",
   "execution_count": 8,
   "metadata": {},
   "outputs": [],
   "source": [
    "# Lua chon\n",
    "sequence_type = \"\" # chon 1 trong 2 gia tri: first_seq hoac last_seq\n",
    "sequence_length_type = \"\" # chon 1 trong 2 gia tri: short_seq hoac last_seq\n",
    "sequence_length = 10 # chon so nguyen [1, 1000]\n",
    "start_item = '' # chon start_item\n",
    "end_item = '' # chon end_item\n",
    "exclude_items = [] # list cac event muon exclude\n"
   ]
  },
  {
   "cell_type": "code",
   "execution_count": null,
   "metadata": {},
   "outputs": [
    {
     "name": "stdout",
     "output_type": "stream",
     "text": [
      "   user_id      min_ts      max_ts\n",
      "0        0  1742356893  1742365632\n",
      "1        1  1742356895  1742365637\n",
      "2        2  1742356895  1742365631\n",
      "3        3  1742356900  1742365639\n",
      "4        4  1742356898  1742365632\n",
      "5        5  1742356892  1742365639\n",
      "6        6  1742356892  1742365638\n",
      "7        7  1742356896  1742365629\n",
      "8        8  1742358992  1742365639\n",
      "9        9  1742356894  1742365638\n",
      "10       a  1742358997  1742365631\n",
      "11       b  1742356896  1742365638\n",
      "12       c  1742356902  1742365628\n",
      "13       d  1742356903  1742365632\n",
      "14       e  1742356900  1742365632\n",
      "15       f  1742356898  1742365639\n",
      "16       g  1742356899  1742359059\n",
      "17       h  1742356894  1742365637\n",
      "18       i  1742356898  1742365633\n",
      "19       j  1742356895  1742365629\n",
      "20       k  1742356897  1742365628\n",
      "21       l  1742356906  1742365632\n",
      "22       m  1742356899  1742365636\n",
      "23       n  1742358994  1742365635\n",
      "24       o  1742356897  1742365629\n",
      "25       p  1742356893  1742365637\n",
      "26       q  1742359007  1742365631\n",
      "27       r  1742356906  1742365638\n",
      "28       s  1742356894  1742365636\n",
      "29       t  1742356897  1742365639\n",
      "30       u  1742356892  1742365637\n",
      "31       v  1742356900  1742365638\n",
      "32       w  1742356901  1742365636\n",
      "33       x  1742356897  1742365635\n",
      "34       y  1742356895  1742365627\n",
      "35       z  1742356892  1742365633\n"
     ]
    }
   ],
   "source": [
    "df_filter_by_start_item = df[df[\"event_name\"] == \"ev1_ad_click\"]\n",
    "min_ts = df_filter_by_start_item.groupby(\"user_id\")[\"timestamp\"].min().reset_index()\n",
    "min_ts.rename(columns={\"timestamp\": \"min_ts\"}, inplace=True)\n",
    "\n",
    "df_filter_by_end_item = df[df[\"event_name\"] == \"ev1_ad_click\"]\n",
    "max_ts = df_filter_by_end_item.groupby(\"user_id\")[\"timestamp\"].max().reset_index()\n",
    "max_ts.rename(columns={\"timestamp\": \"max_ts\"}, inplace=True)\n",
    "\n",
    "min_max_df = pd.merge(min_ts, max_ts, on='user_id', how='inner')\n",
    "\n",
    "# Hiển thị kết quả\n",
    "print(min_max_df)\n"
   ]
  }
 ],
 "metadata": {
  "kernelspec": {
   "display_name": "Python 3",
   "language": "python",
   "name": "python3"
  },
  "language_info": {
   "codemirror_mode": {
    "name": "ipython",
    "version": 3
   },
   "file_extension": ".py",
   "mimetype": "text/x-python",
   "name": "python",
   "nbconvert_exporter": "python",
   "pygments_lexer": "ipython3",
   "version": "3.10.12"
  }
 },
 "nbformat": 4,
 "nbformat_minor": 2
}
